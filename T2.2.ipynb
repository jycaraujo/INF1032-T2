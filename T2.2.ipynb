{
 "cells": [
  {
   "cell_type": "markdown",
   "metadata": {},
   "source": [
    "# T2.2\n",
    "\n",
    "Gabriela Bevilacqua - 1511241\n",
    "<br>\n",
    "Joyce Araújo - 1213110\n",
    "<br>\n",
    "<br>\n",
    "Predição de dados sobre o dataset \"Individual household electric power consumption\" da UCI."
   ]
  },
  {
   "cell_type": "markdown",
   "metadata": {},
   "source": [
    "## Eletric Power Consuption DataSet  Information"
   ]
  },
  {
   "cell_type": "markdown",
   "metadata": {},
   "source": [
    "DataSet from University of California Irvine (UCI)\n",
    "<br>\n",
    "Available at https://archive.ics.uci.edu/ml/datasets/Individual+household+electric+power+consumption\n",
    "<br><br>\n",
    "**Attribute Information:**\n",
    "<br>\n",
    "1.date: Date in format dd/mm/yyyy\n",
    "<br>\n",
    "2.time: time in format hh:mm:ss \n",
    "<br>\n",
    "3.global_active_power: household global minute-averaged active power (in kilowatt) \n",
    "<br>\n",
    "4.global_reactive_power: household global minute-averaged reactive power (in kilowatt) \n",
    "<br>\n",
    "5.voltage: minute-averaged voltage (in volt) \n",
    "<br>\n",
    "6.global_intensity: household global minute-averaged current intensity (in ampere) \n",
    "<br>\n",
    "7.sub_metering_1: energy sub-metering No. 1 (in watt-hour of active energy). It corresponds to the kitchen, containing mainly a \n",
    "dishwasher, an oven and a microwave (hot plates are not electric but gas powered). \n",
    "<br>\n",
    "8.sub_metering_2: energy sub-metering No. 2 (in watt-hour of active energy). It corresponds to the laundry room, containing a \n",
    "washing-machine, a tumble-drier, a refrigerator and a light. \n",
    "<br>\n",
    "9.sub_metering_3: energy sub-metering No. 3 (in watt-hour of active energy). It corresponds to an electric water-heater and an air-conditioner.\n"
   ]
  },
  {
   "cell_type": "markdown",
   "metadata": {},
   "source": [
    "### Opening Dataset"
   ]
  },
  {
   "cell_type": "code",
   "execution_count": 58,
   "metadata": {},
   "outputs": [],
   "source": [
    "import numpy as np\n",
    "\n",
    "# plotting libraries\n",
    "import matplotlib.pyplot as plt\n",
    "import seaborn as sns\n",
    "\n",
    "# machine learning libraries and functions\n",
    "import sklearn as sk\n",
    "from sklearn.model_selection import train_test_split\n",
    "from sklearn.linear_model import LinearRegression, LogisticRegression\n",
    "from sklearn.metrics import mean_squared_error, r2_score\n",
    "\n",
    "from sklearn import metrics"
   ]
  },
  {
   "cell_type": "markdown",
   "metadata": {},
   "source": [
    "#### DataFrame"
   ]
  },
  {
   "cell_type": "code",
   "execution_count": 59,
   "metadata": {},
   "outputs": [],
   "source": [
    "df = pd.read_csv('household_power_consumption.txt', sep=';', \n",
    "                 parse_dates={'dt' : ['Date', 'Time']}, infer_datetime_format=True, \n",
    "                 low_memory=False, na_values=['nan','?'], index_col='dt')"
   ]
  },
  {
   "cell_type": "markdown",
   "metadata": {},
   "source": [
    "#### Adapting Data"
   ]
  },
  {
   "cell_type": "code",
   "execution_count": 60,
   "metadata": {},
   "outputs": [],
   "source": [
    "# Preenchendo as células que contém nan (not a number) com a média dos valores\n",
    "columns_fill = ['Global_active_power', 'Global_reactive_power', 'Voltage', 'Global_intensity', 'Sub_metering_1', 'Sub_metering_2', 'Sub_metering_3']\n",
    "\n",
    "for column in columns_fill:\n",
    "    df[column].fillna((df[column].mean()), inplace=True)"
   ]
  },
  {
   "cell_type": "code",
   "execution_count": 61,
   "metadata": {},
   "outputs": [
    {
     "data": {
      "text/html": [
       "<div>\n",
       "<style scoped>\n",
       "    .dataframe tbody tr th:only-of-type {\n",
       "        vertical-align: middle;\n",
       "    }\n",
       "\n",
       "    .dataframe tbody tr th {\n",
       "        vertical-align: top;\n",
       "    }\n",
       "\n",
       "    .dataframe thead th {\n",
       "        text-align: right;\n",
       "    }\n",
       "</style>\n",
       "<table border=\"1\" class=\"dataframe\">\n",
       "  <thead>\n",
       "    <tr style=\"text-align: right;\">\n",
       "      <th></th>\n",
       "      <th>Global_active_power</th>\n",
       "      <th>Global_reactive_power</th>\n",
       "      <th>Voltage</th>\n",
       "      <th>Global_intensity</th>\n",
       "      <th>Sub_metering_1</th>\n",
       "      <th>Sub_metering_2</th>\n",
       "      <th>Sub_metering_3</th>\n",
       "      <th>Global_active_power_round</th>\n",
       "    </tr>\n",
       "    <tr>\n",
       "      <th>dt</th>\n",
       "      <th></th>\n",
       "      <th></th>\n",
       "      <th></th>\n",
       "      <th></th>\n",
       "      <th></th>\n",
       "      <th></th>\n",
       "      <th></th>\n",
       "      <th></th>\n",
       "    </tr>\n",
       "  </thead>\n",
       "  <tbody>\n",
       "    <tr>\n",
       "      <th>2006-12-16 17:24:00</th>\n",
       "      <td>4.216</td>\n",
       "      <td>0.418</td>\n",
       "      <td>234.84</td>\n",
       "      <td>18.4</td>\n",
       "      <td>0.0</td>\n",
       "      <td>1.0</td>\n",
       "      <td>17.0</td>\n",
       "      <td>1</td>\n",
       "    </tr>\n",
       "    <tr>\n",
       "      <th>2006-12-16 17:25:00</th>\n",
       "      <td>5.360</td>\n",
       "      <td>0.436</td>\n",
       "      <td>233.63</td>\n",
       "      <td>23.0</td>\n",
       "      <td>0.0</td>\n",
       "      <td>1.0</td>\n",
       "      <td>16.0</td>\n",
       "      <td>1</td>\n",
       "    </tr>\n",
       "    <tr>\n",
       "      <th>2006-12-16 17:26:00</th>\n",
       "      <td>5.374</td>\n",
       "      <td>0.498</td>\n",
       "      <td>233.29</td>\n",
       "      <td>23.0</td>\n",
       "      <td>0.0</td>\n",
       "      <td>2.0</td>\n",
       "      <td>17.0</td>\n",
       "      <td>1</td>\n",
       "    </tr>\n",
       "    <tr>\n",
       "      <th>2006-12-16 17:27:00</th>\n",
       "      <td>5.388</td>\n",
       "      <td>0.502</td>\n",
       "      <td>233.74</td>\n",
       "      <td>23.0</td>\n",
       "      <td>0.0</td>\n",
       "      <td>1.0</td>\n",
       "      <td>17.0</td>\n",
       "      <td>1</td>\n",
       "    </tr>\n",
       "    <tr>\n",
       "      <th>2006-12-16 17:28:00</th>\n",
       "      <td>3.666</td>\n",
       "      <td>0.528</td>\n",
       "      <td>235.68</td>\n",
       "      <td>15.8</td>\n",
       "      <td>0.0</td>\n",
       "      <td>1.0</td>\n",
       "      <td>17.0</td>\n",
       "      <td>1</td>\n",
       "    </tr>\n",
       "  </tbody>\n",
       "</table>\n",
       "</div>"
      ],
      "text/plain": [
       "                     Global_active_power  Global_reactive_power  Voltage  \\\n",
       "dt                                                                         \n",
       "2006-12-16 17:24:00                4.216                  0.418   234.84   \n",
       "2006-12-16 17:25:00                5.360                  0.436   233.63   \n",
       "2006-12-16 17:26:00                5.374                  0.498   233.29   \n",
       "2006-12-16 17:27:00                5.388                  0.502   233.74   \n",
       "2006-12-16 17:28:00                3.666                  0.528   235.68   \n",
       "\n",
       "                     Global_intensity  Sub_metering_1  Sub_metering_2  \\\n",
       "dt                                                                      \n",
       "2006-12-16 17:24:00              18.4             0.0             1.0   \n",
       "2006-12-16 17:25:00              23.0             0.0             1.0   \n",
       "2006-12-16 17:26:00              23.0             0.0             2.0   \n",
       "2006-12-16 17:27:00              23.0             0.0             1.0   \n",
       "2006-12-16 17:28:00              15.8             0.0             1.0   \n",
       "\n",
       "                     Sub_metering_3  Global_active_power_round  \n",
       "dt                                                              \n",
       "2006-12-16 17:24:00            17.0                          1  \n",
       "2006-12-16 17:25:00            16.0                          1  \n",
       "2006-12-16 17:26:00            17.0                          1  \n",
       "2006-12-16 17:27:00            17.0                          1  \n",
       "2006-12-16 17:28:00            17.0                          1  "
      ]
     },
     "execution_count": 61,
     "metadata": {},
     "output_type": "execute_result"
    }
   ],
   "source": [
    "# Criando uma nova coluna para predição de dados\n",
    "# Low or High Global Active Power Consume\n",
    "df['Global_active_power_round'] = pd.Series(np.where(df['Global_active_power'].values >= 1.0, 1, 0), df.index)\n",
    "df.head()"
   ]
  },
  {
   "cell_type": "markdown",
   "metadata": {},
   "source": [
    "#### Checking data distribution"
   ]
  },
  {
   "cell_type": "code",
   "execution_count": 62,
   "metadata": {},
   "outputs": [
    {
     "data": {
      "text/plain": [
       "Text(0.5,1,'GAP distribution')"
      ]
     },
     "execution_count": 62,
     "metadata": {},
     "output_type": "execute_result"
    },
    {
     "data": {
      "image/png": "[encoded data removed]",
      "text/plain": [
       "<Figure size 432x288 with 1 Axes>"
      ]
     },
     "metadata": {},
     "output_type": "display_data"
    }
   ],
   "source": [
    "import warnings\n",
    "warnings.filterwarnings('ignore')\n",
    "\n",
    "g = sns.distplot(df['Global_active_power_round']);\n",
    "g.axes.set_title('GAP distribution', fontsize=14, alpha=0.7)"
   ]
  },
  {
   "cell_type": "markdown",
   "metadata": {},
   "source": [
    "### Data Prediction\n",
    "Predizer o consumo de energia \"futuro\" com base nas datas (dd/mm/yyyy).\n",
    "<br>\n",
    "Para tentar melhorar tanto a visualização dos dados quanto a predição, os dados foram separados por dia e dentro de um dia por períodos (madrugada, manhã, tarde, noite)"
   ]
  },
  {
   "cell_type": "markdown",
   "metadata": {},
   "source": [
    "#### Spliting data into days and day periods (dawn, morning, afternoon, night)"
   ]
  },
  {
   "cell_type": "code",
   "execution_count": 63,
   "metadata": {},
   "outputs": [],
   "source": [
    "# Spliting dataseries by hour\n",
    "df_hour_series = df.Global_active_power.resample('H').mean()\n",
    "df_by_hour = pd.DataFrame(df_hour_series)"
   ]
  },
  {
   "cell_type": "code",
   "execution_count": 64,
   "metadata": {},
   "outputs": [],
   "source": [
    "import datetime\n",
    "\n",
    "# Consumo de energia por dia divido em periodos dos dia \n",
    "gap_per_day_period = {1: [], 2: [], 3: [], 4: []}\n",
    "\n",
    "_period = -1\n",
    "start_index = -1\n",
    "end_index = -1\n",
    "\n",
    "i = 0\n",
    "\n",
    "for index, row in df_by_hour.iterrows():\n",
    "    dt = index\n",
    "    hr = index.hour\n",
    "    end_index = i\n",
    "            \n",
    "    if(hr >= 0 and hr < 6):\n",
    "        period = 1 # Madrugada\n",
    "    elif(hr >= 6 and hr < 12):\n",
    "        period = 2 # Manha\n",
    "    elif(hr >= 12 and hr < 18):\n",
    "        period = 3 # Tarde\n",
    "    elif(hr >= 18 and hr < 24):\n",
    "        period = 4 # Noite\n",
    "        \n",
    "    if(period != _period and _period != -1):\n",
    "        gap_avg = df_by_hour['Global_active_power'].iloc[start_index : end_index].mean(axis=0)\n",
    "        \n",
    "        gap_per_day_period[period].append([dt, gap_avg])\n",
    "        \n",
    "        _period = period\n",
    "        start_index = i\n",
    "    \n",
    "    if(_period == -1):\n",
    "        start_index = i\n",
    "        _period = period\n",
    "        \n",
    "    i += 1\n"
   ]
  },
  {
   "cell_type": "markdown",
   "metadata": {},
   "source": [
    "#### Agrouping data into a dataframe"
   ]
  },
  {
   "cell_type": "code",
   "execution_count": 65,
   "metadata": {},
   "outputs": [
    {
     "data": {
      "text/html": [
       "<div>\n",
       "<style scoped>\n",
       "    .dataframe tbody tr th:only-of-type {\n",
       "        vertical-align: middle;\n",
       "    }\n",
       "\n",
       "    .dataframe tbody tr th {\n",
       "        vertical-align: top;\n",
       "    }\n",
       "\n",
       "    .dataframe thead th {\n",
       "        text-align: right;\n",
       "    }\n",
       "</style>\n",
       "<table border=\"1\" class=\"dataframe\">\n",
       "  <thead>\n",
       "    <tr style=\"text-align: right;\">\n",
       "      <th></th>\n",
       "      <th></th>\n",
       "      <th>Date</th>\n",
       "      <th>GAP</th>\n",
       "    </tr>\n",
       "  </thead>\n",
       "  <tbody>\n",
       "    <tr>\n",
       "      <th rowspan=\"5\" valign=\"top\">DAWN</th>\n",
       "      <th>0</th>\n",
       "      <td>2006-12-17</td>\n",
       "      <td>2.936533</td>\n",
       "    </tr>\n",
       "    <tr>\n",
       "      <th>1</th>\n",
       "      <td>2006-12-18</td>\n",
       "      <td>2.493917</td>\n",
       "    </tr>\n",
       "    <tr>\n",
       "      <th>2</th>\n",
       "      <td>2006-12-19</td>\n",
       "      <td>2.253900</td>\n",
       "    </tr>\n",
       "    <tr>\n",
       "      <th>3</th>\n",
       "      <td>2006-12-20</td>\n",
       "      <td>1.588983</td>\n",
       "    </tr>\n",
       "    <tr>\n",
       "      <th>4</th>\n",
       "      <td>2006-12-21</td>\n",
       "      <td>3.124622</td>\n",
       "    </tr>\n",
       "  </tbody>\n",
       "</table>\n",
       "</div>"
      ],
      "text/plain": [
       "             Date       GAP\n",
       "DAWN 0 2006-12-17  2.936533\n",
       "     1 2006-12-18  2.493917\n",
       "     2 2006-12-19  2.253900\n",
       "     3 2006-12-20  1.588983\n",
       "     4 2006-12-21  3.124622"
      ]
     },
     "execution_count": 65,
     "metadata": {},
     "output_type": "execute_result"
    }
   ],
   "source": [
    "consume_at_dawn = pd.DataFrame(data=gap_per_day_period[1], columns = ['Date', 'GAP'])\n",
    "consume_at_morning = pd.DataFrame(data=gap_per_day_period[2], columns = ['Date', 'GAP'])\n",
    "consume_at_afternoon = pd.DataFrame(data=gap_per_day_period[3], columns = ['Date', 'GAP'])\n",
    "consume_at_night = pd.DataFrame(data=gap_per_day_period[4], columns = ['Date', 'GAP'])\n",
    "\n",
    "frames = [consume_at_dawn, consume_at_morning, consume_at_afternoon, consume_at_night]\n",
    "\n",
    "consume_per_period = pd.concat(frames, keys=['DAWN', 'MORNING', 'AFTERNOON', 'NIGHT'])\n",
    "consume_per_period.head()"
   ]
  },
  {
   "cell_type": "markdown",
   "metadata": {},
   "source": [
    "#### Making date conversions"
   ]
  },
  {
   "cell_type": "code",
   "execution_count": 66,
   "metadata": {},
   "outputs": [],
   "source": [
    "import datetime as dt\n",
    "\n",
    "consume_per_period['Date'] = consume_per_period['Date'].map(dt.datetime.toordinal)"
   ]
  },
  {
   "cell_type": "code",
   "execution_count": 67,
   "metadata": {},
   "outputs": [
    {
     "data": {
      "text/html": [
       "<div>\n",
       "<style scoped>\n",
       "    .dataframe tbody tr th:only-of-type {\n",
       "        vertical-align: middle;\n",
       "    }\n",
       "\n",
       "    .dataframe tbody tr th {\n",
       "        vertical-align: top;\n",
       "    }\n",
       "\n",
       "    .dataframe thead th {\n",
       "        text-align: right;\n",
       "    }\n",
       "</style>\n",
       "<table border=\"1\" class=\"dataframe\">\n",
       "  <thead>\n",
       "    <tr style=\"text-align: right;\">\n",
       "      <th></th>\n",
       "      <th>Date</th>\n",
       "      <th>GAP</th>\n",
       "    </tr>\n",
       "  </thead>\n",
       "  <tbody>\n",
       "    <tr>\n",
       "      <th>count</th>\n",
       "      <td>5765.000000</td>\n",
       "      <td>5765.000000</td>\n",
       "    </tr>\n",
       "    <tr>\n",
       "      <th>mean</th>\n",
       "      <td>733381.874935</td>\n",
       "      <td>1.092072</td>\n",
       "    </tr>\n",
       "    <tr>\n",
       "      <th>std</th>\n",
       "      <td>416.089139</td>\n",
       "      <td>0.698318</td>\n",
       "    </tr>\n",
       "    <tr>\n",
       "      <th>min</th>\n",
       "      <td>732661.000000</td>\n",
       "      <td>0.161300</td>\n",
       "    </tr>\n",
       "    <tr>\n",
       "      <th>25%</th>\n",
       "      <td>733022.000000</td>\n",
       "      <td>0.455789</td>\n",
       "    </tr>\n",
       "    <tr>\n",
       "      <th>50%</th>\n",
       "      <td>733382.000000</td>\n",
       "      <td>0.990694</td>\n",
       "    </tr>\n",
       "    <tr>\n",
       "      <th>75%</th>\n",
       "      <td>733742.000000</td>\n",
       "      <td>1.551678</td>\n",
       "    </tr>\n",
       "    <tr>\n",
       "      <th>max</th>\n",
       "      <td>734102.000000</td>\n",
       "      <td>4.418233</td>\n",
       "    </tr>\n",
       "  </tbody>\n",
       "</table>\n",
       "</div>"
      ],
      "text/plain": [
       "                Date          GAP\n",
       "count    5765.000000  5765.000000\n",
       "mean   733381.874935     1.092072\n",
       "std       416.089139     0.698318\n",
       "min    732661.000000     0.161300\n",
       "25%    733022.000000     0.455789\n",
       "50%    733382.000000     0.990694\n",
       "75%    733742.000000     1.551678\n",
       "max    734102.000000     4.418233"
      ]
     },
     "execution_count": 67,
     "metadata": {},
     "output_type": "execute_result"
    }
   ],
   "source": [
    "consume_per_period.describe()"
   ]
  },
  {
   "cell_type": "markdown",
   "metadata": {},
   "source": [
    "#### Making GAP conversions (binary)"
   ]
  },
  {
   "cell_type": "code",
   "execution_count": 68,
   "metadata": {},
   "outputs": [
    {
     "data": {
      "text/html": [
       "<div>\n",
       "<style scoped>\n",
       "    .dataframe tbody tr th:only-of-type {\n",
       "        vertical-align: middle;\n",
       "    }\n",
       "\n",
       "    .dataframe tbody tr th {\n",
       "        vertical-align: top;\n",
       "    }\n",
       "\n",
       "    .dataframe thead th {\n",
       "        text-align: right;\n",
       "    }\n",
       "</style>\n",
       "<table border=\"1\" class=\"dataframe\">\n",
       "  <thead>\n",
       "    <tr style=\"text-align: right;\">\n",
       "      <th></th>\n",
       "      <th></th>\n",
       "      <th>Date</th>\n",
       "      <th>GAP</th>\n",
       "    </tr>\n",
       "  </thead>\n",
       "  <tbody>\n",
       "    <tr>\n",
       "      <th rowspan=\"5\" valign=\"top\">DAWN</th>\n",
       "      <th>0</th>\n",
       "      <td>732662</td>\n",
       "      <td>1</td>\n",
       "    </tr>\n",
       "    <tr>\n",
       "      <th>1</th>\n",
       "      <td>732663</td>\n",
       "      <td>1</td>\n",
       "    </tr>\n",
       "    <tr>\n",
       "      <th>2</th>\n",
       "      <td>732664</td>\n",
       "      <td>1</td>\n",
       "    </tr>\n",
       "    <tr>\n",
       "      <th>3</th>\n",
       "      <td>732665</td>\n",
       "      <td>1</td>\n",
       "    </tr>\n",
       "    <tr>\n",
       "      <th>4</th>\n",
       "      <td>732666</td>\n",
       "      <td>1</td>\n",
       "    </tr>\n",
       "  </tbody>\n",
       "</table>\n",
       "</div>"
      ],
      "text/plain": [
       "          Date  GAP\n",
       "DAWN 0  732662    1\n",
       "     1  732663    1\n",
       "     2  732664    1\n",
       "     3  732665    1\n",
       "     4  732666    1"
      ]
     },
     "execution_count": 68,
     "metadata": {},
     "output_type": "execute_result"
    }
   ],
   "source": [
    "consume_per_period['GAP'] = pd.Series(np.where(consume_per_period['GAP'].values >= 1.0, 1, 0), consume_per_period.index)\n",
    "\n",
    "consume_per_period.head()"
   ]
  },
  {
   "cell_type": "code",
   "execution_count": 69,
   "metadata": {},
   "outputs": [
    {
     "data": {
      "text/plain": [
       "Text(0.5,1,'GAP distribution')"
      ]
     },
     "execution_count": 69,
     "metadata": {},
     "output_type": "execute_result"
    },
    {
     "data": {
      "image/png": "[encoded data removed]",
      "text/plain": [
       "<Figure size 432x288 with 1 Axes>"
      ]
     },
     "metadata": {},
     "output_type": "display_data"
    }
   ],
   "source": [
    "# Visualizing GAP Low/High Consume distribution\n",
    "g = sns.distplot(consume_per_period['GAP']);\n",
    "g.axes.set_title('GAP distribution', fontsize=14, alpha=0.7)"
   ]
  },
  {
   "cell_type": "markdown",
   "metadata": {},
   "source": [
    "#### Predicting energy consume (high or low) by date"
   ]
  },
  {
   "cell_type": "code",
   "execution_count": 70,
   "metadata": {},
   "outputs": [],
   "source": [
    "def define_training_test(seed_number, X, Y, size):\n",
    "    # Separar os conjuntos de treino e teste\n",
    "    X_train, X_test, Y_train, Y_test = train_test_split(X, Y, test_size=size, random_state=np.random.seed(seed_number), shuffle=False)\n",
    "\n",
    "    return X_train, Y_train, X_test, Y_test"
   ]
  },
  {
   "cell_type": "code",
   "execution_count": 71,
   "metadata": {},
   "outputs": [],
   "source": [
    "def logistic_regression_graph(period_key):\n",
    "    # Definir as datas para predi��o do consumo de energia e o dataset\n",
    "    dataset = consume_per_period.loc[period_key]\n",
    "    source_ft = ['Date']\n",
    "    target_ft = 'GAP'\n",
    "    size = 0.3\n",
    "    \n",
    "    # Separar os conjuntos de treino e teste\n",
    "    X = np.array(dataset[source_ft])\n",
    "    Y = np.array(dataset[target_ft])\n",
    "\n",
    "    X_train, Y_train, X_test, Y_test = define_training_test(101, X, Y, size)\n",
    "\n",
    "    # Criar modelo para Regress�o Linear\n",
    "    regr = sk.linear_model.LogisticRegression()\n",
    "\n",
    "    # Treinar o modelo\n",
    "    regr.fit(X_train, Y_train)\n",
    "\n",
    "    # Fazer predi��es para o conjunto de teste\n",
    "    Y_pred = regr.predict(X_test)\n",
    "    \n",
    "    # Informa��es sobre a regress�o e erro/vari�cia dos dados\n",
    "    print('Coefficients:     ', regr.coef_)\n",
    "    print('Intercept:        ', regr.intercept_)\n",
    "    print('Mean squared error: %.2f' % mean_squared_error(Y_test, Y_pred))\n",
    "    print('Variance score:     %.2f' % r2_score(Y_test, Y_pred))\n",
    "    print('Accuracy:          ', regr.score(X_test, Y_test))\n",
    "\n",
    "    # Fazer scatterplot plotando a linha de regress�o\n",
    "    sns.regplot(x=X_test, y=Y_test, scatter_kws={'alpha':0.3}, logistic = True)\n",
    "#     plt.plot(X_test, Y_pred, color='k', linewidth=1)\n",
    "\n",
    "    # Ajustar datas no eixo x (converter de ordinal para data)\n",
    "    ax = plt.gca()\n",
    "    xticks = ax.get_xticks()\n",
    "    ax.set_xticklabels([dt.datetime.fromordinal(int(tm)).strftime('%Y-%m-%d\\n %H:%M:%S') for tm in xticks], rotation=50)\n",
    "\n",
    "    # Definir periodo do dia\n",
    "    if(period_key == 'DAWN'):\n",
    "        period_name = 'Madrugada'\n",
    "    elif(period_key == 'MORNING'):\n",
    "        period_name = 'Manh�'\n",
    "    elif(period_key == 'AFTERNOON'):\n",
    "        period_name = 'Tarde'\n",
    "    elif(period_key == 'NIGHT'):\n",
    "        period_name = 'Noite'\n",
    "    \n",
    "    title = 'Consumo de Energia de '\n",
    "        \n",
    "    # Adicionar t�tulo e x/y labels\n",
    "    ax.set_title(title + period_name)\n",
    "    ax.set_ylabel('Consumo de Energia')\n",
    "\n",
    "#     plt.scatter(X_test, Y_test, alpha=0.3)\n",
    "#     plt.plot(X_test, Y_pred, color='k', linewidth=1)\n",
    "\n",
    "    plt.show()"
   ]
  },
  {
   "cell_type": "code",
   "execution_count": 72,
   "metadata": {},
   "outputs": [],
   "source": [
    "warn_set = np.seterr(divide='ignore', invalid='ignore')"
   ]
  },
  {
   "cell_type": "markdown",
   "metadata": {},
   "source": [
    "#### Energy consume by period"
   ]
  },
  {
   "cell_type": "code",
   "execution_count": 73,
   "metadata": {},
   "outputs": [
    {
     "name": "stdout",
     "output_type": "stream",
     "text": [
      "Coefficients:      [[1.50558371e-06]]\n",
      "Intercept:         [2.0538747e-12]\n",
      "Mean squared error: 0.21\n",
      "Variance score:     -0.26\n",
      "Accuracy:           0.792147806004619\n"
     ]
    },
    {
     "data": {
      "image/png": "[encoded data removed]",
      "text/plain": [
       "<Figure size 432x288 with 1 Axes>"
      ]
     },
     "metadata": {},
     "output_type": "display_data"
    }
   ],
   "source": [
    "logistic_regression_graph('DAWN')"
   ]
  },
  {
   "cell_type": "code",
   "execution_count": 74,
   "metadata": {},
   "outputs": [
    {
     "name": "stdout",
     "output_type": "stream",
     "text": [
      "Coefficients:      [[-3.41905978e-06]]\n",
      "Intercept:         [-4.66249433e-12]\n",
      "Mean squared error: 0.07\n",
      "Variance score:     -0.07\n",
      "Accuracy:           0.9330254041570438\n"
     ]
    },
    {
     "data": {
      "image/png": "[encoded data removed]",
      "text/plain": [
       "<Figure size 432x288 with 1 Axes>"
      ]
     },
     "metadata": {},
     "output_type": "display_data"
    }
   ],
   "source": [
    "logistic_regression_graph('MORNING')"
   ]
  },
  {
   "cell_type": "code",
   "execution_count": 75,
   "metadata": {},
   "outputs": [
    {
     "name": "stdout",
     "output_type": "stream",
     "text": [
      "Coefficients:      [[9.09051348e-07]]\n",
      "Intercept:         [1.23986605e-12]\n",
      "Mean squared error: 0.27\n",
      "Variance score:     -0.37\n",
      "Accuracy:           0.7297921478060047\n"
     ]
    },
    {
     "data": {
      "image/png": "[encoded data removed]",
      "text/plain": [
       "<Figure size 432x288 with 1 Axes>"
      ]
     },
     "metadata": {},
     "output_type": "display_data"
    }
   ],
   "source": [
    "logistic_regression_graph('AFTERNOON')"
   ]
  },
  {
   "cell_type": "code",
   "execution_count": 76,
   "metadata": {},
   "outputs": [
    {
     "name": "stdout",
     "output_type": "stream",
     "text": [
      "Coefficients:      [[-3.45245925e-07]]\n",
      "Intercept:         [-4.7072888e-13]\n",
      "Mean squared error: 0.55\n",
      "Variance score:     -1.21\n",
      "Accuracy:           0.45265588914549654\n"
     ]
    },
    {
     "data": {
      "image/png": "[encoded data removed]",
      "text/plain": [
       "<Figure size 432x288 with 1 Axes>"
      ]
     },
     "metadata": {},
     "output_type": "display_data"
    }
   ],
   "source": [
    "logistic_regression_graph('NIGHT')"
   ]
  },
  {
   "cell_type": "markdown",
   "metadata": {},
   "source": [
    "#### Predictions Conclusions\n",
    "Como descrito antes na exploração e análise de dados, parece não existir um padrão muito claro sobre o consumo de energia.\n",
    "<br>\n",
    "<br>\n",
    "Isso deve acontecer porque a rotina das pessoas apesar de parecida nem sempre é a mesma, pode acontecer algo que a pessoa precise voltar mais cedo pra casa ou mais tarde, viagens... Enfim, o consumo de energia é extremamente dependente da pessoa que mora na residência. Tanto da sua rotina, quanto do seu humor, suas necessidades e entre outros.\n",
    "<br>\n",
    "<br>\n",
    "Por esse motivo foi muito difícil fazer uma predição do consumo que tivesse resultado razoável e cuja predição fizesse sentido.\n",
    "<br>\n",
    "<br>\n",
    "Apesar dos vários atributos de cada instância, foi escolhido prever o consumo de energia com base na data. Pois conceitualmente não faria sentido prever o consumo de energia com base em dados sobre a própria energia pois em uma previsão de dados novos, essas informações não existiriam, elas somente seriam computadas durante o uso da energia e por isso não seriam bons dados para uma predição real.\n",
    "<br>\n",
    "<br>\n",
    "Para tentar encontrar um padrão ou uma predição melhor, os dados foram previstos com base no período do dia. Assim foi feita uma regressão logística, utilizando a data como dado preditivo e o consumo de energia como dado a ser predito. Para facilitar essa predição o consumo de energia foi convertido de float para binário (1 ou 0), prevendo então como saída o consumo alto ou baixo de energia. Sendo o critério de consumo alto uma média de consumo superior a 1.0. (Esse critério foi escolhido descrevendo os dados dos dataframes criados).\n",
    "<br>\n",
    "<br>\n",
    "Como resultado as regressões por período do dia foram razoalmente boas, considerando as tentativas anteriores com regressão linear e sem separar por períodos do dia. O período da manhã foi o mais \"estável\" e que obteve melhor resultado na predição de dados. Os períodos da tarde e da madrugada tiveram uma predição boa também e o período da noite ficou com a pior previsão.\n",
    "<br><br>\n",
    "Apesar da acurácia ter sido boa para alguns modelos e o erro médio quadrático (mean squared error) também, não foi possível melhorar a variância (r2 score) que ficou muito ruim para todos os modelos."
   ]
  }
 ],
 "metadata": {
  "kernelspec": {
   "display_name": "Python 3",
   "language": "python",
   "name": "python3"
  },
  "language_info": {
   "codemirror_mode": {
    "name": "ipython",
    "version": 3
   },
   "file_extension": ".py",
   "mimetype": "text/x-python",
   "name": "python",
   "nbconvert_exporter": "python",
   "pygments_lexer": "ipython3",
   "version": "3.6.5"
  }
 },
 "nbformat": 4,
 "nbformat_minor": 2
}
